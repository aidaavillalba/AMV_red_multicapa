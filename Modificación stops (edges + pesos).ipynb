{
 "cells": [
  {
   "cell_type": "code",
   "execution_count": 1,
   "id": "54c7699d",
   "metadata": {
    "scrolled": true
   },
   "outputs": [],
   "source": [
    "import pandas as pd\n",
    "import geopandas as gpd\n",
    "import numpy as np\n",
    "import matplotlib.pyplot as plt\n",
    "from shapely import wkt"
   ]
  },
  {
   "cell_type": "markdown",
   "id": "69e4e7ea",
   "metadata": {},
   "source": [
    "# Edges"
   ]
  },
  {
   "cell_type": "code",
   "execution_count": 2,
   "id": "4affa727",
   "metadata": {},
   "outputs": [],
   "source": [
    "def stop_nodes_edges(df_stops, df_split):\n",
    "\n",
    "    df_stops[\"GStopID\"] = df_stops[\"GStopID\"]+\"Stop\"\n",
    "    df_stops[\"geometry\"] = df_stops[\"geometry\"].astype(str)\n",
    "    points_stops = [(df_stops[\"GStopID\"].iloc[i],df_stops[\"geometry\"].iloc[i][7:-1] )for i in range(df_stops[\"geometry\"].shape[0])]\n",
    "    \n",
    "    df_edges_modify = df_split[df_split[\"osmid\"].isin(list(df_stops[\"osmid\"].unique()))]\n",
    "    df_edges_modify = df_edges_modify[[\"osmid\", \"highway\", \"Shape_Leng\", \"from_\", \"to\", \"geometry\"]]\n",
    "   \n",
    "    df_edges_modify[\"geometry\"] = df_edges_modify[\"geometry\"].astype(str)\n",
    "    df_edges_modify[\"from2\"] = \"\"\n",
    "    df_edges_modify[\"to2\"] = \"\"\n",
    "\n",
    "    df_edges_modify.reset_index(drop=True, inplace=True)\n",
    "    df_edges_modify = df_edges_modify.iloc[:-2,:]\n",
    "    \n",
    "    for row in df_edges_modify.index:\n",
    "        for stop_id, point in points_stops:\n",
    "            if df_edges_modify.loc[row][\"geometry\"][:37]==\"LINESTRING ({},\".format(point):\n",
    "                df_edges_modify.loc[row,\"from2\"]= stop_id\n",
    "                df_edges_modify.loc[row,\"to2\"]= df_edges_modify.iloc[row][\"to\"]\n",
    "\n",
    "            elif df_edges_modify.loc[row][\"geometry\"][-25:] == \"{})\".format(point):\n",
    "                df_edges_modify.loc[row,\"from2\"]= df_edges_modify.iloc[row][\"from_\"]\n",
    "                df_edges_modify.loc[row,\"to2\"]= stop_id\n",
    "                \n",
    "    df_edges_stops = df_edges_modify[(df_edges_modify[\"from2\"]!=\"\") & (df_edges_modify[\"to2\"]!=\"\")]\n",
    "    df_edges_stops[\"geometry\"] = df_edges_stops[\"geometry\"].apply(wkt.loads)\n",
    "    gdf_edges_stops = gpd.GeoDataFrame(df_edges_stops, geometry=df_edges_stops.geometry)\n",
    "    \n",
    "    return gdf_edges_stops\n"
   ]
  },
  {
   "cell_type": "markdown",
   "id": "8c1d600e",
   "metadata": {},
   "source": [
    "### Walk"
   ]
  },
  {
   "cell_type": "code",
   "execution_count": 3,
   "id": "e9109c48",
   "metadata": {},
   "outputs": [
    {
     "name": "stderr",
     "output_type": "stream",
     "text": [
      "C:\\Users\\aidaa\\anaconda3\\lib\\site-packages\\geopandas\\geodataframe.py:1442: UserWarning: Geometry column does not contain geometry.\n",
      "  warnings.warn(\"Geometry column does not contain geometry.\")\n",
      "C:\\Users\\aidaa\\anaconda3\\lib\\site-packages\\geopandas\\geodataframe.py:1442: UserWarning: Geometry column does not contain geometry.\n",
      "  warnings.warn(\"Geometry column does not contain geometry.\")\n",
      "C:\\Users\\aidaa\\AppData\\Local\\Temp\\ipykernel_1324\\3110461621.py:28: SettingWithCopyWarning: \n",
      "A value is trying to be set on a copy of a slice from a DataFrame.\n",
      "Try using .loc[row_indexer,col_indexer] = value instead\n",
      "\n",
      "See the caveats in the documentation: https://pandas.pydata.org/pandas-docs/stable/user_guide/indexing.html#returning-a-view-versus-a-copy\n",
      "  df_edges_stops[\"geometry\"] = df_edges_stops[\"geometry\"].apply(wkt.loads)\n"
     ]
    }
   ],
   "source": [
    "df_stops_walk = gpd.read_file(\"C:/Users/aidaa/OneDrive/Escritorio/Smart_Cities/MOV/Trabajo_final/Datos/analisis_red/StopsOnStreets_walk_modificado.shp\")\n",
    "df_split_walk = gpd.read_file(\"C:/Users/aidaa/OneDrive/Escritorio/Smart_Cities/MOV/Trabajo_final/Datos/analisis_red/edges_walk_Split.shp\")\n",
    "\n",
    "gdf_edges_stops_walk = stop_nodes_edges(df_stops_walk, df_split_walk)\n",
    "gdf_edges_stops_walk.to_file(\"C:/Users/aidaa/OneDrive/Escritorio/Smart_Cities/MOV/Trabajo_final/Datos/analisis_red/edges_walk_stop/edges_walk_stop.shp\")"
   ]
  },
  {
   "cell_type": "markdown",
   "id": "f53f179b",
   "metadata": {},
   "source": [
    "### Drive"
   ]
  },
  {
   "cell_type": "code",
   "execution_count": 4,
   "id": "52a078de",
   "metadata": {
    "scrolled": true
   },
   "outputs": [
    {
     "name": "stderr",
     "output_type": "stream",
     "text": [
      "C:\\Users\\aidaa\\anaconda3\\lib\\site-packages\\geopandas\\geodataframe.py:1442: UserWarning: Geometry column does not contain geometry.\n",
      "  warnings.warn(\"Geometry column does not contain geometry.\")\n",
      "C:\\Users\\aidaa\\anaconda3\\lib\\site-packages\\geopandas\\geodataframe.py:1442: UserWarning: Geometry column does not contain geometry.\n",
      "  warnings.warn(\"Geometry column does not contain geometry.\")\n"
     ]
    }
   ],
   "source": [
    "df_stops_drive = gpd.read_file(\"C:/Users/aidaa/OneDrive/Escritorio/Smart_Cities/MOV/Trabajo_final/Datos/analisis_red/StopsOnStreets_drive_modificado.shp\")\n",
    "df_split_drive = gpd.read_file(\"C:/Users/aidaa/OneDrive/Escritorio/Smart_Cities/MOV/Trabajo_final/Datos/analisis_red/edges_drive_Split.shp\")\n",
    "\n",
    "df_edges_stops_drive = stop_nodes_edges(df_stops_drive, df_split_drive)\n",
    "gdf_edges_stops_drive.to_file(\"C:/Users/aidaa/OneDrive/Escritorio/Smart_Cities/MOV/Trabajo_final/Datos/analisis_red/edges_drive_stop\")\n"
   ]
  },
  {
   "cell_type": "markdown",
   "id": "ac1044fc",
   "metadata": {},
   "source": [
    "### Bike"
   ]
  },
  {
   "cell_type": "code",
   "execution_count": 4,
   "id": "b4c49614",
   "metadata": {},
   "outputs": [
    {
     "name": "stderr",
     "output_type": "stream",
     "text": [
      "C:\\Users\\aidaa\\anaconda3\\lib\\site-packages\\geopandas\\geodataframe.py:1442: UserWarning: Geometry column does not contain geometry.\n",
      "  warnings.warn(\"Geometry column does not contain geometry.\")\n",
      "C:\\Users\\aidaa\\anaconda3\\lib\\site-packages\\geopandas\\geodataframe.py:1442: UserWarning: Geometry column does not contain geometry.\n",
      "  warnings.warn(\"Geometry column does not contain geometry.\")\n",
      "C:\\Users\\aidaa\\AppData\\Local\\Temp\\ipykernel_1324\\3110461621.py:28: SettingWithCopyWarning: \n",
      "A value is trying to be set on a copy of a slice from a DataFrame.\n",
      "Try using .loc[row_indexer,col_indexer] = value instead\n",
      "\n",
      "See the caveats in the documentation: https://pandas.pydata.org/pandas-docs/stable/user_guide/indexing.html#returning-a-view-versus-a-copy\n",
      "  df_edges_stops[\"geometry\"] = df_edges_stops[\"geometry\"].apply(wkt.loads)\n"
     ]
    }
   ],
   "source": [
    "df_stops_bike = gpd.read_file(\"C:/Users/aidaa/OneDrive/Escritorio/Smart_Cities/MOV/Trabajo_final/Datos/analisis_red/StopsOnStreets_bike_modificado.shp\")\n",
    "df_split_bike = gpd.read_file(\"C:/Users/aidaa/OneDrive/Escritorio/Smart_Cities/MOV/Trabajo_final/Datos/analisis_red/edges_bike_Split.shp\")\n",
    "\n",
    "gdf_edges_stops_bike = stop_nodes_edges(df_stops_bike, df_split_bike)\n",
    "gdf_edges_stops_bike.to_file(\"C:/Users/aidaa/OneDrive/Escritorio/Smart_Cities/MOV/Trabajo_final/Datos/analisis_red/edges_bike_stop/edges_bike_stop.shp\")"
   ]
  },
  {
   "cell_type": "markdown",
   "id": "43b810ff",
   "metadata": {},
   "source": [
    "### Metrovalencia"
   ]
  },
  {
   "cell_type": "code",
   "execution_count": null,
   "id": "507891a4",
   "metadata": {},
   "outputs": [],
   "source": [
    "df_stop_times =pd.read_csv(\"C:/Users/aidaa/OneDrive/Escritorio/Smart_Cities/MOV/Trabajo_final/Datos/GTFS_Metro_Valencia/stop_times.txt\")"
   ]
  },
  {
   "cell_type": "code",
   "execution_count": null,
   "id": "ad6bba2d",
   "metadata": {},
   "outputs": [],
   "source": [
    "def calc_minutes(trip_id, dic_aux):\n",
    "    df_aux =df_stop_times[df_stop_times[\"trip_id\"]==trip_id]\n",
    "    df_aux.reset_index(inplace=True)\n",
    "    mins = [int(df_aux.loc[i,\"departure_time\"][:2])*60 + int(df_aux.loc[i,\"departure_time\"][3:5]) + int(df_aux.loc[i,\"departure_time\"][6:8])/60 \n",
    "            for i in range(df_aux.shape[0])]\n",
    "    \n",
    "    df_aux[\"MIN\"]=mins\n",
    "    prev = (df_aux.iloc[0][\"stop_id\"], df_aux.iloc[0][\"MIN\"])\n",
    "\n",
    "    for row in range(1,df_aux.shape[0]):\n",
    "        mins =  df_aux.iloc[row][\"MIN\"] - prev[1]\n",
    "        try:\n",
    "            dic_aux[(prev[0],df_aux.iloc[row][\"stop_id\"])]+=[mins]\n",
    "        except KeyError:\n",
    "            dic_aux[(prev[0],df_aux.iloc[row][\"stop_id\"])]=[mins]\n",
    "        prev = (df_aux.iloc[row][\"stop_id\"],df_aux.iloc[row][\"MIN\"])"
   ]
  },
  {
   "cell_type": "code",
   "execution_count": null,
   "id": "dc253159",
   "metadata": {},
   "outputs": [],
   "source": [
    "dic_aux = {}\n",
    "\n",
    "for trip_id in list(df_stop_times[\"trip_id\"].unique()):\n",
    "    calc_minutes(trip_id, dic_aux)   "
   ]
  },
  {
   "cell_type": "code",
   "execution_count": null,
   "id": "d318fb5c",
   "metadata": {},
   "outputs": [],
   "source": [
    "edges_metro_time = pd.DataFrame([(k[0],k[1], np.mean(dic_aux[k])) for k,v in dic_aux.items()], columns = [\"from\", \"to\", \"time\"])\n",
    "edges_metro_time.to_csv(\"./Datos/analisis_red/edges_metro.csv\")"
   ]
  }
 ],
 "metadata": {
  "kernelspec": {
   "display_name": "Python (ox)",
   "language": "python",
   "name": "ox"
  },
  "language_info": {
   "codemirror_mode": {
    "name": "ipython",
    "version": 3
   },
   "file_extension": ".py",
   "mimetype": "text/x-python",
   "name": "python",
   "nbconvert_exporter": "python",
   "pygments_lexer": "ipython3",
   "version": "3.9.13"
  }
 },
 "nbformat": 4,
 "nbformat_minor": 5
}
