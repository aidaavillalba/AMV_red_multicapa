{
 "cells": [
  {
   "cell_type": "code",
   "execution_count": 8,
   "id": "54c7699d",
   "metadata": {},
   "outputs": [
    {
     "name": "stderr",
     "output_type": "stream",
     "text": [
      "C:\\Users\\aidaa\\anaconda3\\lib\\site-packages\\osmnx\\utils.py:192: UserWarning: The `utils.config` function is deprecated and will be removed in a future release. Instead, use the `settings` module directly to configure a global setting's value. For example, `ox.settings.log_console=True`.\n",
      "  warnings.warn(\n"
     ]
    }
   ],
   "source": [
    "import osmnx as ox\n",
    "ox.config(log_console=True, use_cache=True)\n",
    "\n",
    "import geopandas as gpd\n",
    "import numpy as np\n",
    "from shapely import wkt"
   ]
  },
  {
   "cell_type": "markdown",
   "id": "9b66c1ca",
   "metadata": {},
   "source": [
    "# Descarga de datos"
   ]
  },
  {
   "cell_type": "markdown",
   "id": "5fed1e63",
   "metadata": {},
   "source": [
    "### Polígono zona de transporte"
   ]
  },
  {
   "cell_type": "code",
   "execution_count": 9,
   "id": "d51f544a",
   "metadata": {},
   "outputs": [],
   "source": [
    "df_ZT = gpd.read_file(\"./Datos/Shapefile_Zonas_Transporte/Zona_transporte.shp\")\n",
    "df_ZT.to_crs(\"epsg:4326\",inplace=True)\n",
    "ZT = df_ZT[\"geometry\"].iloc[0]"
   ]
  },
  {
   "cell_type": "markdown",
   "id": "ad6b89f8",
   "metadata": {},
   "source": [
    "### Red caminable"
   ]
  },
  {
   "cell_type": "code",
   "execution_count": 16,
   "id": "61e3fd2d",
   "metadata": {},
   "outputs": [
    {
     "name": "stderr",
     "output_type": "stream",
     "text": [
      "C:\\Users\\aidaa\\anaconda3\\lib\\site-packages\\osmnx\\io.py:87: UserWarning: The `save_graph_shapefile` function is deprecated and will be removed in a future release. Instead, use the `save_graph_geopackage` function to save graphs as GeoPackage files for subsequent GIS analysis.\n",
      "  warnings.warn(\n",
      "C:\\Users\\aidaa\\anaconda3\\lib\\site-packages\\osmnx\\io.py:114: UserWarning: Column names longer than 10 characters will be truncated when saved to ESRI Shapefile.\n",
      "  gdf_nodes.to_file(filepath_nodes, driver=\"ESRI Shapefile\", index=True, encoding=encoding)\n"
     ]
    }
   ],
   "source": [
    "G_walk = ox.graph_from_polygon(polygon = ZT, network_type = 'walk')\n",
    "#G_walk = ox.graph_from_place(\"Comunidad Valenciana, Spain\", network_type=\"walk\")\n",
    "G_proj_walk_vlc = ox.project_graph(G_walk, to_crs=\"epsg:25830\")\n",
    "ox.io.save_graph_shapefile(G_proj_walk_vlc, filepath=\"./Datos/networks_vlc/walk\")"
   ]
  },
  {
   "cell_type": "markdown",
   "id": "f2c5a320",
   "metadata": {},
   "source": [
    "### Red vehículos motorizados"
   ]
  },
  {
   "cell_type": "code",
   "execution_count": 17,
   "id": "cf266c84",
   "metadata": {},
   "outputs": [
    {
     "name": "stderr",
     "output_type": "stream",
     "text": [
      "C:\\Users\\aidaa\\anaconda3\\lib\\site-packages\\osmnx\\io.py:87: UserWarning: The `save_graph_shapefile` function is deprecated and will be removed in a future release. Instead, use the `save_graph_geopackage` function to save graphs as GeoPackage files for subsequent GIS analysis.\n",
      "  warnings.warn(\n",
      "C:\\Users\\aidaa\\anaconda3\\lib\\site-packages\\osmnx\\io.py:114: UserWarning: Column names longer than 10 characters will be truncated when saved to ESRI Shapefile.\n",
      "  gdf_nodes.to_file(filepath_nodes, driver=\"ESRI Shapefile\", index=True, encoding=encoding)\n"
     ]
    }
   ],
   "source": [
    "G_drive = ox.graph_from_polygon(polygon = ZT, network_type = 'drive')\n",
    "#G_drive = ox.graph_from_place(\"Comunidad Valenciana, Spain\", network_type=\"drive\")\n",
    "G_proj_drive_vlc = ox.project_graph(G_drive, to_crs=\"epsg:25830\")\n",
    "ox.io.save_graph_shapefile(G_proj_drive_vlc, filepath=\"./Datos/networks_vlc/drive\")"
   ]
  },
  {
   "cell_type": "markdown",
   "id": "f2443893",
   "metadata": {},
   "source": [
    "### Red carril bici"
   ]
  },
  {
   "cell_type": "code",
   "execution_count": 13,
   "id": "f580c38e",
   "metadata": {},
   "outputs": [
    {
     "name": "stderr",
     "output_type": "stream",
     "text": [
      "C:\\Users\\aidaa\\anaconda3\\lib\\site-packages\\osmnx\\io.py:87: UserWarning: The `save_graph_shapefile` function is deprecated and will be removed in a future release. Instead, use the `save_graph_geopackage` function to save graphs as GeoPackage files for subsequent GIS analysis.\n",
      "  warnings.warn(\n",
      "C:\\Users\\aidaa\\anaconda3\\lib\\site-packages\\osmnx\\io.py:114: UserWarning: Column names longer than 10 characters will be truncated when saved to ESRI Shapefile.\n",
      "  gdf_nodes.to_file(filepath_nodes, driver=\"ESRI Shapefile\", index=True, encoding=encoding)\n"
     ]
    }
   ],
   "source": [
    "G_bike = ox.graph_from_polygon(polygon = ZT, network_type='bike',\n",
    "                                       custom_filter='[\"highway\"~\"cycleway\"]')\n",
    "G_proj_bike_vlc = ox.project_graph(G_bike, to_crs=\"epsg:25830\")\n",
    "ox.io.save_graph_shapefile(G_proj_bike_vlc, filepath=\"./Datos/networks_vlc/bike\")"
   ]
  }
 ],
 "metadata": {
  "kernelspec": {
   "display_name": "Python (ox)",
   "language": "python",
   "name": "ox"
  },
  "language_info": {
   "codemirror_mode": {
    "name": "ipython",
    "version": 3
   },
   "file_extension": ".py",
   "mimetype": "text/x-python",
   "name": "python",
   "nbconvert_exporter": "python",
   "pygments_lexer": "ipython3",
   "version": "3.9.13"
  }
 },
 "nbformat": 4,
 "nbformat_minor": 5
}
